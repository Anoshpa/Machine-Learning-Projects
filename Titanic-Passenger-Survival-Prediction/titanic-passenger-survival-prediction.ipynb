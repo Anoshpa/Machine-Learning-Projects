{
 "cells": [
  {
   "cell_type": "markdown",
   "metadata": {
    "papermill": {
     "duration": 0.026593,
     "end_time": "2021-04-16T21:20:07.695567",
     "exception": false,
     "start_time": "2021-04-16T21:20:07.668974",
     "status": "completed"
    },
    "tags": []
   },
   "source": [
    "# Import Necessary Libraries"
   ]
  },
  {
   "cell_type": "code",
   "execution_count": 1,
   "metadata": {
    "execution": {
     "iopub.execute_input": "2021-04-16T21:20:07.752336Z",
     "iopub.status.busy": "2021-04-16T21:20:07.751611Z",
     "iopub.status.idle": "2021-04-16T21:20:08.739495Z",
     "shell.execute_reply": "2021-04-16T21:20:08.739971Z"
    },
    "papermill": {
     "duration": 1.019603,
     "end_time": "2021-04-16T21:20:08.740420",
     "exception": false,
     "start_time": "2021-04-16T21:20:07.720817",
     "status": "completed"
    },
    "tags": []
   },
   "outputs": [],
   "source": [
    "# let`s first import all the necessary libraries\n",
    "import pandas as pd\n",
    "import numpy as np\n",
    "import matplotlib.pyplot as plt\n",
    "import seaborn as sns"
   ]
  },
  {
   "cell_type": "markdown",
   "metadata": {
    "papermill": {
     "duration": 0.024472,
     "end_time": "2021-04-16T21:20:08.790421",
     "exception": false,
     "start_time": "2021-04-16T21:20:08.765949",
     "status": "completed"
    },
    "tags": []
   },
   "source": [
    "# Load and Read the dataset"
   ]
  },
  {
   "cell_type": "code",
   "execution_count": 2,
   "metadata": {
    "execution": {
     "iopub.execute_input": "2021-04-16T21:20:08.847959Z",
     "iopub.status.busy": "2021-04-16T21:20:08.847005Z",
     "iopub.status.idle": "2021-04-16T21:20:08.879649Z",
     "shell.execute_reply": "2021-04-16T21:20:08.879057Z"
    },
    "papermill": {
     "duration": 0.06319,
     "end_time": "2021-04-16T21:20:08.879798",
     "exception": false,
     "start_time": "2021-04-16T21:20:08.816608",
     "status": "completed"
    },
    "tags": []
   },
   "outputs": [],
   "source": [
    "# let`s now load the titanic dataset\n",
    "data=pd.read_csv(\"../input/titanicdataset-traincsv/train.csv\")"
   ]
  },
  {
   "cell_type": "code",
   "execution_count": 3,
   "metadata": {
    "execution": {
     "iopub.execute_input": "2021-04-16T21:20:08.933999Z",
     "iopub.status.busy": "2021-04-16T21:20:08.933348Z",
     "iopub.status.idle": "2021-04-16T21:20:08.972821Z",
     "shell.execute_reply": "2021-04-16T21:20:08.973338Z"
    },
    "papermill": {
     "duration": 0.068937,
     "end_time": "2021-04-16T21:20:08.973515",
     "exception": false,
     "start_time": "2021-04-16T21:20:08.904578",
     "status": "completed"
    },
    "tags": []
   },
   "outputs": [
    {
     "data": {
      "text/html": [
       "<div>\n",
       "<style scoped>\n",
       "    .dataframe tbody tr th:only-of-type {\n",
       "        vertical-align: middle;\n",
       "    }\n",
       "\n",
       "    .dataframe tbody tr th {\n",
       "        vertical-align: top;\n",
       "    }\n",
       "\n",
       "    .dataframe thead th {\n",
       "        text-align: right;\n",
       "    }\n",
       "</style>\n",
       "<table border=\"1\" class=\"dataframe\">\n",
       "  <thead>\n",
       "    <tr style=\"text-align: right;\">\n",
       "      <th></th>\n",
       "      <th>PassengerId</th>\n",
       "      <th>Survived</th>\n",
       "      <th>Pclass</th>\n",
       "      <th>Name</th>\n",
       "      <th>Sex</th>\n",
       "      <th>Age</th>\n",
       "      <th>SibSp</th>\n",
       "      <th>Parch</th>\n",
       "      <th>Ticket</th>\n",
       "      <th>Fare</th>\n",
       "      <th>Cabin</th>\n",
       "      <th>Embarked</th>\n",
       "    </tr>\n",
       "  </thead>\n",
       "  <tbody>\n",
       "    <tr>\n",
       "      <th>0</th>\n",
       "      <td>1</td>\n",
       "      <td>0</td>\n",
       "      <td>3</td>\n",
       "      <td>Braund, Mr. Owen Harris</td>\n",
       "      <td>male</td>\n",
       "      <td>22.0</td>\n",
       "      <td>1</td>\n",
       "      <td>0</td>\n",
       "      <td>A/5 21171</td>\n",
       "      <td>7.2500</td>\n",
       "      <td>NaN</td>\n",
       "      <td>S</td>\n",
       "    </tr>\n",
       "    <tr>\n",
       "      <th>1</th>\n",
       "      <td>2</td>\n",
       "      <td>1</td>\n",
       "      <td>1</td>\n",
       "      <td>Cumings, Mrs. John Bradley (Florence Briggs Th...</td>\n",
       "      <td>female</td>\n",
       "      <td>38.0</td>\n",
       "      <td>1</td>\n",
       "      <td>0</td>\n",
       "      <td>PC 17599</td>\n",
       "      <td>71.2833</td>\n",
       "      <td>C85</td>\n",
       "      <td>C</td>\n",
       "    </tr>\n",
       "    <tr>\n",
       "      <th>2</th>\n",
       "      <td>3</td>\n",
       "      <td>1</td>\n",
       "      <td>3</td>\n",
       "      <td>Heikkinen, Miss. Laina</td>\n",
       "      <td>female</td>\n",
       "      <td>26.0</td>\n",
       "      <td>0</td>\n",
       "      <td>0</td>\n",
       "      <td>STON/O2. 3101282</td>\n",
       "      <td>7.9250</td>\n",
       "      <td>NaN</td>\n",
       "      <td>S</td>\n",
       "    </tr>\n",
       "    <tr>\n",
       "      <th>3</th>\n",
       "      <td>4</td>\n",
       "      <td>1</td>\n",
       "      <td>1</td>\n",
       "      <td>Futrelle, Mrs. Jacques Heath (Lily May Peel)</td>\n",
       "      <td>female</td>\n",
       "      <td>35.0</td>\n",
       "      <td>1</td>\n",
       "      <td>0</td>\n",
       "      <td>113803</td>\n",
       "      <td>53.1000</td>\n",
       "      <td>C123</td>\n",
       "      <td>S</td>\n",
       "    </tr>\n",
       "    <tr>\n",
       "      <th>4</th>\n",
       "      <td>5</td>\n",
       "      <td>0</td>\n",
       "      <td>3</td>\n",
       "      <td>Allen, Mr. William Henry</td>\n",
       "      <td>male</td>\n",
       "      <td>35.0</td>\n",
       "      <td>0</td>\n",
       "      <td>0</td>\n",
       "      <td>373450</td>\n",
       "      <td>8.0500</td>\n",
       "      <td>NaN</td>\n",
       "      <td>S</td>\n",
       "    </tr>\n",
       "  </tbody>\n",
       "</table>\n",
       "</div>"
      ],
      "text/plain": [
       "   PassengerId  Survived  Pclass  \\\n",
       "0            1         0       3   \n",
       "1            2         1       1   \n",
       "2            3         1       3   \n",
       "3            4         1       1   \n",
       "4            5         0       3   \n",
       "\n",
       "                                                Name     Sex   Age  SibSp  \\\n",
       "0                            Braund, Mr. Owen Harris    male  22.0      1   \n",
       "1  Cumings, Mrs. John Bradley (Florence Briggs Th...  female  38.0      1   \n",
       "2                             Heikkinen, Miss. Laina  female  26.0      0   \n",
       "3       Futrelle, Mrs. Jacques Heath (Lily May Peel)  female  35.0      1   \n",
       "4                           Allen, Mr. William Henry    male  35.0      0   \n",
       "\n",
       "   Parch            Ticket     Fare Cabin Embarked  \n",
       "0      0         A/5 21171   7.2500   NaN        S  \n",
       "1      0          PC 17599  71.2833   C85        C  \n",
       "2      0  STON/O2. 3101282   7.9250   NaN        S  \n",
       "3      0            113803  53.1000  C123        S  \n",
       "4      0            373450   8.0500   NaN        S  "
      ]
     },
     "execution_count": 3,
     "metadata": {},
     "output_type": "execute_result"
    }
   ],
   "source": [
    "data.head() # look at the starting five rows of the dataset"
   ]
  },
  {
   "cell_type": "code",
   "execution_count": 4,
   "metadata": {
    "execution": {
     "iopub.execute_input": "2021-04-16T21:20:09.031006Z",
     "iopub.status.busy": "2021-04-16T21:20:09.030362Z",
     "iopub.status.idle": "2021-04-16T21:20:09.034927Z",
     "shell.execute_reply": "2021-04-16T21:20:09.034357Z"
    },
    "papermill": {
     "duration": 0.035111,
     "end_time": "2021-04-16T21:20:09.035066",
     "exception": false,
     "start_time": "2021-04-16T21:20:08.999955",
     "status": "completed"
    },
    "tags": []
   },
   "outputs": [
    {
     "data": {
      "text/plain": [
       "(891, 12)"
      ]
     },
     "execution_count": 4,
     "metadata": {},
     "output_type": "execute_result"
    }
   ],
   "source": [
    "data.shape # rows and columns in the dataset"
   ]
  },
  {
   "cell_type": "code",
   "execution_count": 5,
   "metadata": {
    "execution": {
     "iopub.execute_input": "2021-04-16T21:20:09.097076Z",
     "iopub.status.busy": "2021-04-16T21:20:09.096365Z",
     "iopub.status.idle": "2021-04-16T21:20:09.124888Z",
     "shell.execute_reply": "2021-04-16T21:20:09.125384Z"
    },
    "papermill": {
     "duration": 0.063829,
     "end_time": "2021-04-16T21:20:09.125578",
     "exception": false,
     "start_time": "2021-04-16T21:20:09.061749",
     "status": "completed"
    },
    "tags": []
   },
   "outputs": [
    {
     "data": {
      "text/html": [
       "<div>\n",
       "<style scoped>\n",
       "    .dataframe tbody tr th:only-of-type {\n",
       "        vertical-align: middle;\n",
       "    }\n",
       "\n",
       "    .dataframe tbody tr th {\n",
       "        vertical-align: top;\n",
       "    }\n",
       "\n",
       "    .dataframe thead th {\n",
       "        text-align: right;\n",
       "    }\n",
       "</style>\n",
       "<table border=\"1\" class=\"dataframe\">\n",
       "  <thead>\n",
       "    <tr style=\"text-align: right;\">\n",
       "      <th></th>\n",
       "      <th>PassengerId</th>\n",
       "      <th>Survived</th>\n",
       "      <th>Pclass</th>\n",
       "      <th>Age</th>\n",
       "      <th>SibSp</th>\n",
       "      <th>Parch</th>\n",
       "      <th>Fare</th>\n",
       "    </tr>\n",
       "  </thead>\n",
       "  <tbody>\n",
       "    <tr>\n",
       "      <th>count</th>\n",
       "      <td>891.000000</td>\n",
       "      <td>891.000000</td>\n",
       "      <td>891.000000</td>\n",
       "      <td>714.000000</td>\n",
       "      <td>891.000000</td>\n",
       "      <td>891.000000</td>\n",
       "      <td>891.000000</td>\n",
       "    </tr>\n",
       "    <tr>\n",
       "      <th>mean</th>\n",
       "      <td>446.000000</td>\n",
       "      <td>0.383838</td>\n",
       "      <td>2.308642</td>\n",
       "      <td>29.699118</td>\n",
       "      <td>0.523008</td>\n",
       "      <td>0.381594</td>\n",
       "      <td>32.204208</td>\n",
       "    </tr>\n",
       "    <tr>\n",
       "      <th>std</th>\n",
       "      <td>257.353842</td>\n",
       "      <td>0.486592</td>\n",
       "      <td>0.836071</td>\n",
       "      <td>14.526497</td>\n",
       "      <td>1.102743</td>\n",
       "      <td>0.806057</td>\n",
       "      <td>49.693429</td>\n",
       "    </tr>\n",
       "    <tr>\n",
       "      <th>min</th>\n",
       "      <td>1.000000</td>\n",
       "      <td>0.000000</td>\n",
       "      <td>1.000000</td>\n",
       "      <td>0.420000</td>\n",
       "      <td>0.000000</td>\n",
       "      <td>0.000000</td>\n",
       "      <td>0.000000</td>\n",
       "    </tr>\n",
       "    <tr>\n",
       "      <th>25%</th>\n",
       "      <td>223.500000</td>\n",
       "      <td>0.000000</td>\n",
       "      <td>2.000000</td>\n",
       "      <td>20.125000</td>\n",
       "      <td>0.000000</td>\n",
       "      <td>0.000000</td>\n",
       "      <td>7.910400</td>\n",
       "    </tr>\n",
       "    <tr>\n",
       "      <th>50%</th>\n",
       "      <td>446.000000</td>\n",
       "      <td>0.000000</td>\n",
       "      <td>3.000000</td>\n",
       "      <td>28.000000</td>\n",
       "      <td>0.000000</td>\n",
       "      <td>0.000000</td>\n",
       "      <td>14.454200</td>\n",
       "    </tr>\n",
       "    <tr>\n",
       "      <th>75%</th>\n",
       "      <td>668.500000</td>\n",
       "      <td>1.000000</td>\n",
       "      <td>3.000000</td>\n",
       "      <td>38.000000</td>\n",
       "      <td>1.000000</td>\n",
       "      <td>0.000000</td>\n",
       "      <td>31.000000</td>\n",
       "    </tr>\n",
       "    <tr>\n",
       "      <th>max</th>\n",
       "      <td>891.000000</td>\n",
       "      <td>1.000000</td>\n",
       "      <td>3.000000</td>\n",
       "      <td>80.000000</td>\n",
       "      <td>8.000000</td>\n",
       "      <td>6.000000</td>\n",
       "      <td>512.329200</td>\n",
       "    </tr>\n",
       "  </tbody>\n",
       "</table>\n",
       "</div>"
      ],
      "text/plain": [
       "       PassengerId    Survived      Pclass         Age       SibSp  \\\n",
       "count   891.000000  891.000000  891.000000  714.000000  891.000000   \n",
       "mean    446.000000    0.383838    2.308642   29.699118    0.523008   \n",
       "std     257.353842    0.486592    0.836071   14.526497    1.102743   \n",
       "min       1.000000    0.000000    1.000000    0.420000    0.000000   \n",
       "25%     223.500000    0.000000    2.000000   20.125000    0.000000   \n",
       "50%     446.000000    0.000000    3.000000   28.000000    0.000000   \n",
       "75%     668.500000    1.000000    3.000000   38.000000    1.000000   \n",
       "max     891.000000    1.000000    3.000000   80.000000    8.000000   \n",
       "\n",
       "            Parch        Fare  \n",
       "count  891.000000  891.000000  \n",
       "mean     0.381594   32.204208  \n",
       "std      0.806057   49.693429  \n",
       "min      0.000000    0.000000  \n",
       "25%      0.000000    7.910400  \n",
       "50%      0.000000   14.454200  \n",
       "75%      0.000000   31.000000  \n",
       "max      6.000000  512.329200  "
      ]
     },
     "execution_count": 5,
     "metadata": {},
     "output_type": "execute_result"
    }
   ],
   "source": [
    "data.describe() #gives the statistical summary of the dataset"
   ]
  },
  {
   "cell_type": "code",
   "execution_count": 6,
   "metadata": {
    "execution": {
     "iopub.execute_input": "2021-04-16T21:20:09.198858Z",
     "iopub.status.busy": "2021-04-16T21:20:09.190552Z",
     "iopub.status.idle": "2021-04-16T21:20:09.204172Z",
     "shell.execute_reply": "2021-04-16T21:20:09.203466Z"
    },
    "papermill": {
     "duration": 0.051715,
     "end_time": "2021-04-16T21:20:09.204344",
     "exception": false,
     "start_time": "2021-04-16T21:20:09.152629",
     "status": "completed"
    },
    "tags": []
   },
   "outputs": [
    {
     "name": "stdout",
     "output_type": "stream",
     "text": [
      "<class 'pandas.core.frame.DataFrame'>\n",
      "RangeIndex: 891 entries, 0 to 890\n",
      "Data columns (total 12 columns):\n",
      " #   Column       Non-Null Count  Dtype  \n",
      "---  ------       --------------  -----  \n",
      " 0   PassengerId  891 non-null    int64  \n",
      " 1   Survived     891 non-null    int64  \n",
      " 2   Pclass       891 non-null    int64  \n",
      " 3   Name         891 non-null    object \n",
      " 4   Sex          891 non-null    object \n",
      " 5   Age          714 non-null    float64\n",
      " 6   SibSp        891 non-null    int64  \n",
      " 7   Parch        891 non-null    int64  \n",
      " 8   Ticket       891 non-null    object \n",
      " 9   Fare         891 non-null    float64\n",
      " 10  Cabin        204 non-null    object \n",
      " 11  Embarked     889 non-null    object \n",
      "dtypes: float64(2), int64(5), object(5)\n",
      "memory usage: 83.7+ KB\n"
     ]
    }
   ],
   "source": [
    "data.info()"
   ]
  },
  {
   "cell_type": "markdown",
   "metadata": {
    "papermill": {
     "duration": 0.027643,
     "end_time": "2021-04-16T21:20:09.259352",
     "exception": false,
     "start_time": "2021-04-16T21:20:09.231709",
     "status": "completed"
    },
    "tags": []
   },
   "source": [
    "# Data Preprocessing"
   ]
  },
  {
   "cell_type": "markdown",
   "metadata": {
    "papermill": {
     "duration": 0.027251,
     "end_time": "2021-04-16T21:20:09.313864",
     "exception": false,
     "start_time": "2021-04-16T21:20:09.286613",
     "status": "completed"
    },
    "tags": []
   },
   "source": [
    "1. Fill the missing values\n",
    "2. Convert the data type of age (float64) to int64"
   ]
  },
  {
   "cell_type": "code",
   "execution_count": 7,
   "metadata": {
    "execution": {
     "iopub.execute_input": "2021-04-16T21:20:09.387679Z",
     "iopub.status.busy": "2021-04-16T21:20:09.386403Z",
     "iopub.status.idle": "2021-04-16T21:20:09.390916Z",
     "shell.execute_reply": "2021-04-16T21:20:09.391846Z"
    },
    "papermill": {
     "duration": 0.049847,
     "end_time": "2021-04-16T21:20:09.392135",
     "exception": false,
     "start_time": "2021-04-16T21:20:09.342288",
     "status": "completed"
    },
    "tags": []
   },
   "outputs": [
    {
     "data": {
      "text/plain": [
       "PassengerId      0\n",
       "Survived         0\n",
       "Pclass           0\n",
       "Name             0\n",
       "Sex              0\n",
       "Age            177\n",
       "SibSp            0\n",
       "Parch            0\n",
       "Ticket           0\n",
       "Fare             0\n",
       "Cabin          687\n",
       "Embarked         2\n",
       "dtype: int64"
      ]
     },
     "execution_count": 7,
     "metadata": {},
     "output_type": "execute_result"
    }
   ],
   "source": [
    "data.isnull().sum() #look for the missing value within the dataset"
   ]
  },
  {
   "cell_type": "code",
   "execution_count": 8,
   "metadata": {
    "execution": {
     "iopub.execute_input": "2021-04-16T21:20:09.472538Z",
     "iopub.status.busy": "2021-04-16T21:20:09.471847Z",
     "iopub.status.idle": "2021-04-16T21:20:09.475032Z",
     "shell.execute_reply": "2021-04-16T21:20:09.474533Z"
    },
    "papermill": {
     "duration": 0.043363,
     "end_time": "2021-04-16T21:20:09.475177",
     "exception": false,
     "start_time": "2021-04-16T21:20:09.431814",
     "status": "completed"
    },
    "tags": []
   },
   "outputs": [],
   "source": [
    "# As the \"age,cabin and Embarked column have missing values\" so let`s fill the missing values"
   ]
  },
  {
   "cell_type": "code",
   "execution_count": 9,
   "metadata": {
    "execution": {
     "iopub.execute_input": "2021-04-16T21:20:09.538442Z",
     "iopub.status.busy": "2021-04-16T21:20:09.537747Z",
     "iopub.status.idle": "2021-04-16T21:20:09.541531Z",
     "shell.execute_reply": "2021-04-16T21:20:09.540953Z"
    },
    "papermill": {
     "duration": 0.038071,
     "end_time": "2021-04-16T21:20:09.541674",
     "exception": false,
     "start_time": "2021-04-16T21:20:09.503603",
     "status": "completed"
    },
    "tags": []
   },
   "outputs": [
    {
     "data": {
      "text/plain": [
       "687"
      ]
     },
     "execution_count": 9,
     "metadata": {},
     "output_type": "execute_result"
    }
   ],
   "source": [
    "#let`s look at the cabin column\n",
    "data[\"Cabin\"].isnull().sum()"
   ]
  },
  {
   "cell_type": "code",
   "execution_count": 10,
   "metadata": {
    "execution": {
     "iopub.execute_input": "2021-04-16T21:20:09.607132Z",
     "iopub.status.busy": "2021-04-16T21:20:09.606454Z",
     "iopub.status.idle": "2021-04-16T21:20:09.610608Z",
     "shell.execute_reply": "2021-04-16T21:20:09.609992Z"
    },
    "papermill": {
     "duration": 0.040128,
     "end_time": "2021-04-16T21:20:09.610761",
     "exception": false,
     "start_time": "2021-04-16T21:20:09.570633",
     "status": "completed"
    },
    "tags": []
   },
   "outputs": [],
   "source": [
    "# so we have 687 missing values in cabin column so let`s drop this column\n",
    "data.drop([\"Cabin\"],axis=1,inplace=True)"
   ]
  },
  {
   "cell_type": "code",
   "execution_count": 11,
   "metadata": {
    "execution": {
     "iopub.execute_input": "2021-04-16T21:20:09.671434Z",
     "iopub.status.busy": "2021-04-16T21:20:09.670447Z",
     "iopub.status.idle": "2021-04-16T21:20:09.695522Z",
     "shell.execute_reply": "2021-04-16T21:20:09.695971Z"
    },
    "papermill": {
     "duration": 0.057071,
     "end_time": "2021-04-16T21:20:09.696152",
     "exception": false,
     "start_time": "2021-04-16T21:20:09.639081",
     "status": "completed"
    },
    "tags": []
   },
   "outputs": [
    {
     "data": {
      "text/html": [
       "<div>\n",
       "<style scoped>\n",
       "    .dataframe tbody tr th:only-of-type {\n",
       "        vertical-align: middle;\n",
       "    }\n",
       "\n",
       "    .dataframe tbody tr th {\n",
       "        vertical-align: top;\n",
       "    }\n",
       "\n",
       "    .dataframe thead th {\n",
       "        text-align: right;\n",
       "    }\n",
       "</style>\n",
       "<table border=\"1\" class=\"dataframe\">\n",
       "  <thead>\n",
       "    <tr style=\"text-align: right;\">\n",
       "      <th></th>\n",
       "      <th>PassengerId</th>\n",
       "      <th>Survived</th>\n",
       "      <th>Pclass</th>\n",
       "      <th>Name</th>\n",
       "      <th>Sex</th>\n",
       "      <th>Age</th>\n",
       "      <th>SibSp</th>\n",
       "      <th>Parch</th>\n",
       "      <th>Ticket</th>\n",
       "      <th>Fare</th>\n",
       "      <th>Embarked</th>\n",
       "    </tr>\n",
       "  </thead>\n",
       "  <tbody>\n",
       "    <tr>\n",
       "      <th>0</th>\n",
       "      <td>1</td>\n",
       "      <td>0</td>\n",
       "      <td>3</td>\n",
       "      <td>Braund, Mr. Owen Harris</td>\n",
       "      <td>male</td>\n",
       "      <td>22.0</td>\n",
       "      <td>1</td>\n",
       "      <td>0</td>\n",
       "      <td>A/5 21171</td>\n",
       "      <td>7.2500</td>\n",
       "      <td>S</td>\n",
       "    </tr>\n",
       "    <tr>\n",
       "      <th>1</th>\n",
       "      <td>2</td>\n",
       "      <td>1</td>\n",
       "      <td>1</td>\n",
       "      <td>Cumings, Mrs. John Bradley (Florence Briggs Th...</td>\n",
       "      <td>female</td>\n",
       "      <td>38.0</td>\n",
       "      <td>1</td>\n",
       "      <td>0</td>\n",
       "      <td>PC 17599</td>\n",
       "      <td>71.2833</td>\n",
       "      <td>C</td>\n",
       "    </tr>\n",
       "    <tr>\n",
       "      <th>2</th>\n",
       "      <td>3</td>\n",
       "      <td>1</td>\n",
       "      <td>3</td>\n",
       "      <td>Heikkinen, Miss. Laina</td>\n",
       "      <td>female</td>\n",
       "      <td>26.0</td>\n",
       "      <td>0</td>\n",
       "      <td>0</td>\n",
       "      <td>STON/O2. 3101282</td>\n",
       "      <td>7.9250</td>\n",
       "      <td>S</td>\n",
       "    </tr>\n",
       "    <tr>\n",
       "      <th>3</th>\n",
       "      <td>4</td>\n",
       "      <td>1</td>\n",
       "      <td>1</td>\n",
       "      <td>Futrelle, Mrs. Jacques Heath (Lily May Peel)</td>\n",
       "      <td>female</td>\n",
       "      <td>35.0</td>\n",
       "      <td>1</td>\n",
       "      <td>0</td>\n",
       "      <td>113803</td>\n",
       "      <td>53.1000</td>\n",
       "      <td>S</td>\n",
       "    </tr>\n",
       "    <tr>\n",
       "      <th>4</th>\n",
       "      <td>5</td>\n",
       "      <td>0</td>\n",
       "      <td>3</td>\n",
       "      <td>Allen, Mr. William Henry</td>\n",
       "      <td>male</td>\n",
       "      <td>35.0</td>\n",
       "      <td>0</td>\n",
       "      <td>0</td>\n",
       "      <td>373450</td>\n",
       "      <td>8.0500</td>\n",
       "      <td>S</td>\n",
       "    </tr>\n",
       "    <tr>\n",
       "      <th>...</th>\n",
       "      <td>...</td>\n",
       "      <td>...</td>\n",
       "      <td>...</td>\n",
       "      <td>...</td>\n",
       "      <td>...</td>\n",
       "      <td>...</td>\n",
       "      <td>...</td>\n",
       "      <td>...</td>\n",
       "      <td>...</td>\n",
       "      <td>...</td>\n",
       "      <td>...</td>\n",
       "    </tr>\n",
       "    <tr>\n",
       "      <th>886</th>\n",
       "      <td>887</td>\n",
       "      <td>0</td>\n",
       "      <td>2</td>\n",
       "      <td>Montvila, Rev. Juozas</td>\n",
       "      <td>male</td>\n",
       "      <td>27.0</td>\n",
       "      <td>0</td>\n",
       "      <td>0</td>\n",
       "      <td>211536</td>\n",
       "      <td>13.0000</td>\n",
       "      <td>S</td>\n",
       "    </tr>\n",
       "    <tr>\n",
       "      <th>887</th>\n",
       "      <td>888</td>\n",
       "      <td>1</td>\n",
       "      <td>1</td>\n",
       "      <td>Graham, Miss. Margaret Edith</td>\n",
       "      <td>female</td>\n",
       "      <td>19.0</td>\n",
       "      <td>0</td>\n",
       "      <td>0</td>\n",
       "      <td>112053</td>\n",
       "      <td>30.0000</td>\n",
       "      <td>S</td>\n",
       "    </tr>\n",
       "    <tr>\n",
       "      <th>888</th>\n",
       "      <td>889</td>\n",
       "      <td>0</td>\n",
       "      <td>3</td>\n",
       "      <td>Johnston, Miss. Catherine Helen \"Carrie\"</td>\n",
       "      <td>female</td>\n",
       "      <td>NaN</td>\n",
       "      <td>1</td>\n",
       "      <td>2</td>\n",
       "      <td>W./C. 6607</td>\n",
       "      <td>23.4500</td>\n",
       "      <td>S</td>\n",
       "    </tr>\n",
       "    <tr>\n",
       "      <th>889</th>\n",
       "      <td>890</td>\n",
       "      <td>1</td>\n",
       "      <td>1</td>\n",
       "      <td>Behr, Mr. Karl Howell</td>\n",
       "      <td>male</td>\n",
       "      <td>26.0</td>\n",
       "      <td>0</td>\n",
       "      <td>0</td>\n",
       "      <td>111369</td>\n",
       "      <td>30.0000</td>\n",
       "      <td>C</td>\n",
       "    </tr>\n",
       "    <tr>\n",
       "      <th>890</th>\n",
       "      <td>891</td>\n",
       "      <td>0</td>\n",
       "      <td>3</td>\n",
       "      <td>Dooley, Mr. Patrick</td>\n",
       "      <td>male</td>\n",
       "      <td>32.0</td>\n",
       "      <td>0</td>\n",
       "      <td>0</td>\n",
       "      <td>370376</td>\n",
       "      <td>7.7500</td>\n",
       "      <td>Q</td>\n",
       "    </tr>\n",
       "  </tbody>\n",
       "</table>\n",
       "<p>891 rows × 11 columns</p>\n",
       "</div>"
      ],
      "text/plain": [
       "     PassengerId  Survived  Pclass  \\\n",
       "0              1         0       3   \n",
       "1              2         1       1   \n",
       "2              3         1       3   \n",
       "3              4         1       1   \n",
       "4              5         0       3   \n",
       "..           ...       ...     ...   \n",
       "886          887         0       2   \n",
       "887          888         1       1   \n",
       "888          889         0       3   \n",
       "889          890         1       1   \n",
       "890          891         0       3   \n",
       "\n",
       "                                                  Name     Sex   Age  SibSp  \\\n",
       "0                              Braund, Mr. Owen Harris    male  22.0      1   \n",
       "1    Cumings, Mrs. John Bradley (Florence Briggs Th...  female  38.0      1   \n",
       "2                               Heikkinen, Miss. Laina  female  26.0      0   \n",
       "3         Futrelle, Mrs. Jacques Heath (Lily May Peel)  female  35.0      1   \n",
       "4                             Allen, Mr. William Henry    male  35.0      0   \n",
       "..                                                 ...     ...   ...    ...   \n",
       "886                              Montvila, Rev. Juozas    male  27.0      0   \n",
       "887                       Graham, Miss. Margaret Edith  female  19.0      0   \n",
       "888           Johnston, Miss. Catherine Helen \"Carrie\"  female   NaN      1   \n",
       "889                              Behr, Mr. Karl Howell    male  26.0      0   \n",
       "890                                Dooley, Mr. Patrick    male  32.0      0   \n",
       "\n",
       "     Parch            Ticket     Fare Embarked  \n",
       "0        0         A/5 21171   7.2500        S  \n",
       "1        0          PC 17599  71.2833        C  \n",
       "2        0  STON/O2. 3101282   7.9250        S  \n",
       "3        0            113803  53.1000        S  \n",
       "4        0            373450   8.0500        S  \n",
       "..     ...               ...      ...      ...  \n",
       "886      0            211536  13.0000        S  \n",
       "887      0            112053  30.0000        S  \n",
       "888      2        W./C. 6607  23.4500        S  \n",
       "889      0            111369  30.0000        C  \n",
       "890      0            370376   7.7500        Q  \n",
       "\n",
       "[891 rows x 11 columns]"
      ]
     },
     "execution_count": 11,
     "metadata": {},
     "output_type": "execute_result"
    }
   ],
   "source": [
    "data"
   ]
  },
  {
   "cell_type": "code",
   "execution_count": 12,
   "metadata": {
    "execution": {
     "iopub.execute_input": "2021-04-16T21:20:09.758940Z",
     "iopub.status.busy": "2021-04-16T21:20:09.758218Z",
     "iopub.status.idle": "2021-04-16T21:20:09.764142Z",
     "shell.execute_reply": "2021-04-16T21:20:09.764670Z"
    },
    "papermill": {
     "duration": 0.039525,
     "end_time": "2021-04-16T21:20:09.764843",
     "exception": false,
     "start_time": "2021-04-16T21:20:09.725318",
     "status": "completed"
    },
    "tags": []
   },
   "outputs": [
    {
     "data": {
      "text/plain": [
       "177"
      ]
     },
     "execution_count": 12,
     "metadata": {},
     "output_type": "execute_result"
    }
   ],
   "source": [
    "# let`s now look at the `Age` column\n",
    "data[\"Age\"].isnull().sum()"
   ]
  },
  {
   "cell_type": "code",
   "execution_count": 13,
   "metadata": {
    "execution": {
     "iopub.execute_input": "2021-04-16T21:20:09.828256Z",
     "iopub.status.busy": "2021-04-16T21:20:09.827568Z",
     "iopub.status.idle": "2021-04-16T21:20:09.832555Z",
     "shell.execute_reply": "2021-04-16T21:20:09.833094Z"
    },
    "papermill": {
     "duration": 0.038453,
     "end_time": "2021-04-16T21:20:09.833300",
     "exception": false,
     "start_time": "2021-04-16T21:20:09.794847",
     "status": "completed"
    },
    "tags": []
   },
   "outputs": [],
   "source": [
    "# In Age column we have 177 missing value so let`s fill these values with mean or median , \n",
    "# I will use mean to fill it\n",
    "Age_mean=data[\"Age\"].mean()\n",
    "data[\"Age\"]=data[\"Age\"].fillna(Age_mean)"
   ]
  },
  {
   "cell_type": "code",
   "execution_count": 14,
   "metadata": {
    "execution": {
     "iopub.execute_input": "2021-04-16T21:20:09.896884Z",
     "iopub.status.busy": "2021-04-16T21:20:09.895873Z",
     "iopub.status.idle": "2021-04-16T21:20:09.903603Z",
     "shell.execute_reply": "2021-04-16T21:20:09.903004Z"
    },
    "papermill": {
     "duration": 0.040629,
     "end_time": "2021-04-16T21:20:09.903754",
     "exception": false,
     "start_time": "2021-04-16T21:20:09.863125",
     "status": "completed"
    },
    "tags": []
   },
   "outputs": [
    {
     "data": {
      "text/plain": [
       "0"
      ]
     },
     "execution_count": 14,
     "metadata": {},
     "output_type": "execute_result"
    }
   ],
   "source": [
    "# Now let`s have look at Age column\n",
    "data[\"Age\"].isnull().sum()"
   ]
  },
  {
   "cell_type": "code",
   "execution_count": 15,
   "metadata": {
    "execution": {
     "iopub.execute_input": "2021-04-16T21:20:09.971437Z",
     "iopub.status.busy": "2021-04-16T21:20:09.970736Z",
     "iopub.status.idle": "2021-04-16T21:20:09.994395Z",
     "shell.execute_reply": "2021-04-16T21:20:09.993716Z"
    },
    "papermill": {
     "duration": 0.060423,
     "end_time": "2021-04-16T21:20:09.994541",
     "exception": false,
     "start_time": "2021-04-16T21:20:09.934118",
     "status": "completed"
    },
    "tags": []
   },
   "outputs": [],
   "source": [
    "data=data.dropna() # Embarked has only 2 missing values so let`s drop the rows "
   ]
  },
  {
   "cell_type": "code",
   "execution_count": 16,
   "metadata": {
    "execution": {
     "iopub.execute_input": "2021-04-16T21:20:10.068308Z",
     "iopub.status.busy": "2021-04-16T21:20:10.067600Z",
     "iopub.status.idle": "2021-04-16T21:20:10.071864Z",
     "shell.execute_reply": "2021-04-16T21:20:10.071180Z"
    },
    "papermill": {
     "duration": 0.044397,
     "end_time": "2021-04-16T21:20:10.072005",
     "exception": false,
     "start_time": "2021-04-16T21:20:10.027608",
     "status": "completed"
    },
    "tags": []
   },
   "outputs": [
    {
     "data": {
      "text/plain": [
       "PassengerId    0\n",
       "Survived       0\n",
       "Pclass         0\n",
       "Name           0\n",
       "Sex            0\n",
       "Age            0\n",
       "SibSp          0\n",
       "Parch          0\n",
       "Ticket         0\n",
       "Fare           0\n",
       "Embarked       0\n",
       "dtype: int64"
      ]
     },
     "execution_count": 16,
     "metadata": {},
     "output_type": "execute_result"
    }
   ],
   "source": [
    "data.isnull().sum()"
   ]
  },
  {
   "cell_type": "code",
   "execution_count": 17,
   "metadata": {
    "execution": {
     "iopub.execute_input": "2021-04-16T21:20:10.139977Z",
     "iopub.status.busy": "2021-04-16T21:20:10.139289Z",
     "iopub.status.idle": "2021-04-16T21:20:10.142908Z",
     "shell.execute_reply": "2021-04-16T21:20:10.143427Z"
    },
    "papermill": {
     "duration": 0.040138,
     "end_time": "2021-04-16T21:20:10.143597",
     "exception": false,
     "start_time": "2021-04-16T21:20:10.103459",
     "status": "completed"
    },
    "tags": []
   },
   "outputs": [
    {
     "data": {
      "text/plain": [
       "(889, 11)"
      ]
     },
     "execution_count": 17,
     "metadata": {},
     "output_type": "execute_result"
    }
   ],
   "source": [
    "data.shape"
   ]
  },
  {
   "cell_type": "markdown",
   "metadata": {
    "papermill": {
     "duration": 0.031712,
     "end_time": "2021-04-16T21:20:10.207763",
     "exception": false,
     "start_time": "2021-04-16T21:20:10.176051",
     "status": "completed"
    },
    "tags": []
   },
   "source": [
    "# Exploratory Data Analysis"
   ]
  },
  {
   "cell_type": "code",
   "execution_count": 18,
   "metadata": {
    "execution": {
     "iopub.execute_input": "2021-04-16T21:20:10.277543Z",
     "iopub.status.busy": "2021-04-16T21:20:10.273816Z",
     "iopub.status.idle": "2021-04-16T21:20:10.279471Z",
     "shell.execute_reply": "2021-04-16T21:20:10.279968Z"
    },
    "papermill": {
     "duration": 0.041355,
     "end_time": "2021-04-16T21:20:10.280141",
     "exception": false,
     "start_time": "2021-04-16T21:20:10.238786",
     "status": "completed"
    },
    "tags": []
   },
   "outputs": [],
   "source": [
    "# By looking at the data we can analyse that \"PassengerId,Name,SibSp,Parch,Ticket ,Fare,Embarked\" \n",
    "# can not effect on the survival of passenger\n",
    "features=data[[\"Pclass\",\"Sex\",\"Age\",\"Fare\"]]\n",
    "target=data[\"Survived\"]"
   ]
  },
  {
   "cell_type": "code",
   "execution_count": 19,
   "metadata": {
    "execution": {
     "iopub.execute_input": "2021-04-16T21:20:10.346956Z",
     "iopub.status.busy": "2021-04-16T21:20:10.346309Z",
     "iopub.status.idle": "2021-04-16T21:20:10.545138Z",
     "shell.execute_reply": "2021-04-16T21:20:10.545701Z"
    },
    "papermill": {
     "duration": 0.234159,
     "end_time": "2021-04-16T21:20:10.545896",
     "exception": false,
     "start_time": "2021-04-16T21:20:10.311737",
     "status": "completed"
    },
    "tags": []
   },
   "outputs": [],
   "source": [
    "# As \"Sex\" is categorical data so let`s use LabelEncoder to covert it into Numerical data\n",
    "from sklearn.preprocessing import LabelEncoder"
   ]
  },
  {
   "cell_type": "code",
   "execution_count": 20,
   "metadata": {
    "execution": {
     "iopub.execute_input": "2021-04-16T21:20:10.614387Z",
     "iopub.status.busy": "2021-04-16T21:20:10.613601Z",
     "iopub.status.idle": "2021-04-16T21:20:10.620858Z",
     "shell.execute_reply": "2021-04-16T21:20:10.620305Z"
    },
    "papermill": {
     "duration": 0.043288,
     "end_time": "2021-04-16T21:20:10.621010",
     "exception": false,
     "start_time": "2021-04-16T21:20:10.577722",
     "status": "completed"
    },
    "tags": []
   },
   "outputs": [
    {
     "name": "stderr",
     "output_type": "stream",
     "text": [
      "/opt/conda/lib/python3.7/site-packages/ipykernel_launcher.py:2: SettingWithCopyWarning: \n",
      "A value is trying to be set on a copy of a slice from a DataFrame.\n",
      "Try using .loc[row_indexer,col_indexer] = value instead\n",
      "\n",
      "See the caveats in the documentation: https://pandas.pydata.org/pandas-docs/stable/user_guide/indexing.html#returning-a-view-versus-a-copy\n",
      "  \n"
     ]
    }
   ],
   "source": [
    "le=LabelEncoder() #let`s create object of LabelEncoder\n",
    "features[\"Sex_n\"]=le.fit_transform(features[\"Sex\"])"
   ]
  },
  {
   "cell_type": "code",
   "execution_count": 21,
   "metadata": {
    "execution": {
     "iopub.execute_input": "2021-04-16T21:20:10.689856Z",
     "iopub.status.busy": "2021-04-16T21:20:10.689155Z",
     "iopub.status.idle": "2021-04-16T21:20:10.705153Z",
     "shell.execute_reply": "2021-04-16T21:20:10.705658Z"
    },
    "papermill": {
     "duration": 0.05256,
     "end_time": "2021-04-16T21:20:10.705849",
     "exception": false,
     "start_time": "2021-04-16T21:20:10.653289",
     "status": "completed"
    },
    "tags": []
   },
   "outputs": [
    {
     "data": {
      "text/html": [
       "<div>\n",
       "<style scoped>\n",
       "    .dataframe tbody tr th:only-of-type {\n",
       "        vertical-align: middle;\n",
       "    }\n",
       "\n",
       "    .dataframe tbody tr th {\n",
       "        vertical-align: top;\n",
       "    }\n",
       "\n",
       "    .dataframe thead th {\n",
       "        text-align: right;\n",
       "    }\n",
       "</style>\n",
       "<table border=\"1\" class=\"dataframe\">\n",
       "  <thead>\n",
       "    <tr style=\"text-align: right;\">\n",
       "      <th></th>\n",
       "      <th>Pclass</th>\n",
       "      <th>Sex</th>\n",
       "      <th>Age</th>\n",
       "      <th>Fare</th>\n",
       "      <th>Sex_n</th>\n",
       "    </tr>\n",
       "  </thead>\n",
       "  <tbody>\n",
       "    <tr>\n",
       "      <th>0</th>\n",
       "      <td>3</td>\n",
       "      <td>male</td>\n",
       "      <td>22.000000</td>\n",
       "      <td>7.2500</td>\n",
       "      <td>1</td>\n",
       "    </tr>\n",
       "    <tr>\n",
       "      <th>1</th>\n",
       "      <td>1</td>\n",
       "      <td>female</td>\n",
       "      <td>38.000000</td>\n",
       "      <td>71.2833</td>\n",
       "      <td>0</td>\n",
       "    </tr>\n",
       "    <tr>\n",
       "      <th>2</th>\n",
       "      <td>3</td>\n",
       "      <td>female</td>\n",
       "      <td>26.000000</td>\n",
       "      <td>7.9250</td>\n",
       "      <td>0</td>\n",
       "    </tr>\n",
       "    <tr>\n",
       "      <th>3</th>\n",
       "      <td>1</td>\n",
       "      <td>female</td>\n",
       "      <td>35.000000</td>\n",
       "      <td>53.1000</td>\n",
       "      <td>0</td>\n",
       "    </tr>\n",
       "    <tr>\n",
       "      <th>4</th>\n",
       "      <td>3</td>\n",
       "      <td>male</td>\n",
       "      <td>35.000000</td>\n",
       "      <td>8.0500</td>\n",
       "      <td>1</td>\n",
       "    </tr>\n",
       "    <tr>\n",
       "      <th>...</th>\n",
       "      <td>...</td>\n",
       "      <td>...</td>\n",
       "      <td>...</td>\n",
       "      <td>...</td>\n",
       "      <td>...</td>\n",
       "    </tr>\n",
       "    <tr>\n",
       "      <th>886</th>\n",
       "      <td>2</td>\n",
       "      <td>male</td>\n",
       "      <td>27.000000</td>\n",
       "      <td>13.0000</td>\n",
       "      <td>1</td>\n",
       "    </tr>\n",
       "    <tr>\n",
       "      <th>887</th>\n",
       "      <td>1</td>\n",
       "      <td>female</td>\n",
       "      <td>19.000000</td>\n",
       "      <td>30.0000</td>\n",
       "      <td>0</td>\n",
       "    </tr>\n",
       "    <tr>\n",
       "      <th>888</th>\n",
       "      <td>3</td>\n",
       "      <td>female</td>\n",
       "      <td>29.699118</td>\n",
       "      <td>23.4500</td>\n",
       "      <td>0</td>\n",
       "    </tr>\n",
       "    <tr>\n",
       "      <th>889</th>\n",
       "      <td>1</td>\n",
       "      <td>male</td>\n",
       "      <td>26.000000</td>\n",
       "      <td>30.0000</td>\n",
       "      <td>1</td>\n",
       "    </tr>\n",
       "    <tr>\n",
       "      <th>890</th>\n",
       "      <td>3</td>\n",
       "      <td>male</td>\n",
       "      <td>32.000000</td>\n",
       "      <td>7.7500</td>\n",
       "      <td>1</td>\n",
       "    </tr>\n",
       "  </tbody>\n",
       "</table>\n",
       "<p>889 rows × 5 columns</p>\n",
       "</div>"
      ],
      "text/plain": [
       "     Pclass     Sex        Age     Fare  Sex_n\n",
       "0         3    male  22.000000   7.2500      1\n",
       "1         1  female  38.000000  71.2833      0\n",
       "2         3  female  26.000000   7.9250      0\n",
       "3         1  female  35.000000  53.1000      0\n",
       "4         3    male  35.000000   8.0500      1\n",
       "..      ...     ...        ...      ...    ...\n",
       "886       2    male  27.000000  13.0000      1\n",
       "887       1  female  19.000000  30.0000      0\n",
       "888       3  female  29.699118  23.4500      0\n",
       "889       1    male  26.000000  30.0000      1\n",
       "890       3    male  32.000000   7.7500      1\n",
       "\n",
       "[889 rows x 5 columns]"
      ]
     },
     "execution_count": 21,
     "metadata": {},
     "output_type": "execute_result"
    }
   ],
   "source": [
    "features\n",
    "# Sex column is converted into numerical column"
   ]
  },
  {
   "cell_type": "code",
   "execution_count": 22,
   "metadata": {
    "execution": {
     "iopub.execute_input": "2021-04-16T21:20:10.775705Z",
     "iopub.status.busy": "2021-04-16T21:20:10.775041Z",
     "iopub.status.idle": "2021-04-16T21:20:10.786685Z",
     "shell.execute_reply": "2021-04-16T21:20:10.787607Z"
    },
    "papermill": {
     "duration": 0.04857,
     "end_time": "2021-04-16T21:20:10.787860",
     "exception": false,
     "start_time": "2021-04-16T21:20:10.739290",
     "status": "completed"
    },
    "tags": []
   },
   "outputs": [
    {
     "name": "stderr",
     "output_type": "stream",
     "text": [
      "/opt/conda/lib/python3.7/site-packages/pandas/core/frame.py:4312: SettingWithCopyWarning: \n",
      "A value is trying to be set on a copy of a slice from a DataFrame\n",
      "\n",
      "See the caveats in the documentation: https://pandas.pydata.org/pandas-docs/stable/user_guide/indexing.html#returning-a-view-versus-a-copy\n",
      "  errors=errors,\n"
     ]
    }
   ],
   "source": [
    "# Now let`s drop the original \"Sex\" column\n",
    "features.drop([\"Sex\"],axis=1,inplace=True)"
   ]
  },
  {
   "cell_type": "code",
   "execution_count": 23,
   "metadata": {
    "execution": {
     "iopub.execute_input": "2021-04-16T21:20:10.861700Z",
     "iopub.status.busy": "2021-04-16T21:20:10.860858Z",
     "iopub.status.idle": "2021-04-16T21:20:10.876396Z",
     "shell.execute_reply": "2021-04-16T21:20:10.875679Z"
    },
    "papermill": {
     "duration": 0.053819,
     "end_time": "2021-04-16T21:20:10.876558",
     "exception": false,
     "start_time": "2021-04-16T21:20:10.822739",
     "status": "completed"
    },
    "tags": []
   },
   "outputs": [
    {
     "data": {
      "text/html": [
       "<div>\n",
       "<style scoped>\n",
       "    .dataframe tbody tr th:only-of-type {\n",
       "        vertical-align: middle;\n",
       "    }\n",
       "\n",
       "    .dataframe tbody tr th {\n",
       "        vertical-align: top;\n",
       "    }\n",
       "\n",
       "    .dataframe thead th {\n",
       "        text-align: right;\n",
       "    }\n",
       "</style>\n",
       "<table border=\"1\" class=\"dataframe\">\n",
       "  <thead>\n",
       "    <tr style=\"text-align: right;\">\n",
       "      <th></th>\n",
       "      <th>Pclass</th>\n",
       "      <th>Age</th>\n",
       "      <th>Fare</th>\n",
       "      <th>Sex_n</th>\n",
       "    </tr>\n",
       "  </thead>\n",
       "  <tbody>\n",
       "    <tr>\n",
       "      <th>0</th>\n",
       "      <td>3</td>\n",
       "      <td>22.000000</td>\n",
       "      <td>7.2500</td>\n",
       "      <td>1</td>\n",
       "    </tr>\n",
       "    <tr>\n",
       "      <th>1</th>\n",
       "      <td>1</td>\n",
       "      <td>38.000000</td>\n",
       "      <td>71.2833</td>\n",
       "      <td>0</td>\n",
       "    </tr>\n",
       "    <tr>\n",
       "      <th>2</th>\n",
       "      <td>3</td>\n",
       "      <td>26.000000</td>\n",
       "      <td>7.9250</td>\n",
       "      <td>0</td>\n",
       "    </tr>\n",
       "    <tr>\n",
       "      <th>3</th>\n",
       "      <td>1</td>\n",
       "      <td>35.000000</td>\n",
       "      <td>53.1000</td>\n",
       "      <td>0</td>\n",
       "    </tr>\n",
       "    <tr>\n",
       "      <th>4</th>\n",
       "      <td>3</td>\n",
       "      <td>35.000000</td>\n",
       "      <td>8.0500</td>\n",
       "      <td>1</td>\n",
       "    </tr>\n",
       "    <tr>\n",
       "      <th>...</th>\n",
       "      <td>...</td>\n",
       "      <td>...</td>\n",
       "      <td>...</td>\n",
       "      <td>...</td>\n",
       "    </tr>\n",
       "    <tr>\n",
       "      <th>886</th>\n",
       "      <td>2</td>\n",
       "      <td>27.000000</td>\n",
       "      <td>13.0000</td>\n",
       "      <td>1</td>\n",
       "    </tr>\n",
       "    <tr>\n",
       "      <th>887</th>\n",
       "      <td>1</td>\n",
       "      <td>19.000000</td>\n",
       "      <td>30.0000</td>\n",
       "      <td>0</td>\n",
       "    </tr>\n",
       "    <tr>\n",
       "      <th>888</th>\n",
       "      <td>3</td>\n",
       "      <td>29.699118</td>\n",
       "      <td>23.4500</td>\n",
       "      <td>0</td>\n",
       "    </tr>\n",
       "    <tr>\n",
       "      <th>889</th>\n",
       "      <td>1</td>\n",
       "      <td>26.000000</td>\n",
       "      <td>30.0000</td>\n",
       "      <td>1</td>\n",
       "    </tr>\n",
       "    <tr>\n",
       "      <th>890</th>\n",
       "      <td>3</td>\n",
       "      <td>32.000000</td>\n",
       "      <td>7.7500</td>\n",
       "      <td>1</td>\n",
       "    </tr>\n",
       "  </tbody>\n",
       "</table>\n",
       "<p>889 rows × 4 columns</p>\n",
       "</div>"
      ],
      "text/plain": [
       "     Pclass        Age     Fare  Sex_n\n",
       "0         3  22.000000   7.2500      1\n",
       "1         1  38.000000  71.2833      0\n",
       "2         3  26.000000   7.9250      0\n",
       "3         1  35.000000  53.1000      0\n",
       "4         3  35.000000   8.0500      1\n",
       "..      ...        ...      ...    ...\n",
       "886       2  27.000000  13.0000      1\n",
       "887       1  19.000000  30.0000      0\n",
       "888       3  29.699118  23.4500      0\n",
       "889       1  26.000000  30.0000      1\n",
       "890       3  32.000000   7.7500      1\n",
       "\n",
       "[889 rows x 4 columns]"
      ]
     },
     "execution_count": 23,
     "metadata": {},
     "output_type": "execute_result"
    }
   ],
   "source": [
    "features"
   ]
  },
  {
   "cell_type": "markdown",
   "metadata": {
    "papermill": {
     "duration": 0.034934,
     "end_time": "2021-04-16T21:20:10.945810",
     "exception": false,
     "start_time": "2021-04-16T21:20:10.910876",
     "status": "completed"
    },
    "tags": []
   },
   "source": [
    "# MODEL BUILDING"
   ]
  },
  {
   "cell_type": "code",
   "execution_count": 24,
   "metadata": {
    "execution": {
     "iopub.execute_input": "2021-04-16T21:20:11.021057Z",
     "iopub.status.busy": "2021-04-16T21:20:11.020018Z",
     "iopub.status.idle": "2021-04-16T21:20:11.195694Z",
     "shell.execute_reply": "2021-04-16T21:20:11.194363Z"
    },
    "papermill": {
     "duration": 0.213606,
     "end_time": "2021-04-16T21:20:11.195870",
     "exception": false,
     "start_time": "2021-04-16T21:20:10.982264",
     "status": "completed"
    },
    "tags": []
   },
   "outputs": [],
   "source": [
    "# before building the model let`s split the dataset using train_test_split\n",
    "from sklearn.model_selection import train_test_split\n",
    "x_train,x_test,y_train,y_test=train_test_split(features,target,test_size=0.2)"
   ]
  },
  {
   "cell_type": "code",
   "execution_count": 25,
   "metadata": {
    "execution": {
     "iopub.execute_input": "2021-04-16T21:20:11.270302Z",
     "iopub.status.busy": "2021-04-16T21:20:11.269580Z",
     "iopub.status.idle": "2021-04-16T21:20:11.274512Z",
     "shell.execute_reply": "2021-04-16T21:20:11.274986Z"
    },
    "papermill": {
     "duration": 0.04299,
     "end_time": "2021-04-16T21:20:11.275176",
     "exception": false,
     "start_time": "2021-04-16T21:20:11.232186",
     "status": "completed"
    },
    "tags": []
   },
   "outputs": [
    {
     "data": {
      "text/plain": [
       "711"
      ]
     },
     "execution_count": 25,
     "metadata": {},
     "output_type": "execute_result"
    }
   ],
   "source": [
    "len(x_train)"
   ]
  },
  {
   "cell_type": "code",
   "execution_count": 26,
   "metadata": {
    "execution": {
     "iopub.execute_input": "2021-04-16T21:20:11.350030Z",
     "iopub.status.busy": "2021-04-16T21:20:11.349341Z",
     "iopub.status.idle": "2021-04-16T21:20:11.354679Z",
     "shell.execute_reply": "2021-04-16T21:20:11.355157Z"
    },
    "papermill": {
     "duration": 0.045614,
     "end_time": "2021-04-16T21:20:11.355349",
     "exception": false,
     "start_time": "2021-04-16T21:20:11.309735",
     "status": "completed"
    },
    "tags": []
   },
   "outputs": [
    {
     "data": {
      "text/plain": [
       "178"
      ]
     },
     "execution_count": 26,
     "metadata": {},
     "output_type": "execute_result"
    }
   ],
   "source": [
    "len(x_test)"
   ]
  },
  {
   "cell_type": "markdown",
   "metadata": {
    "papermill": {
     "duration": 0.036077,
     "end_time": "2021-04-16T21:20:11.426074",
     "exception": false,
     "start_time": "2021-04-16T21:20:11.389997",
     "status": "completed"
    },
    "tags": []
   },
   "source": [
    "## Logistic Regression"
   ]
  },
  {
   "cell_type": "code",
   "execution_count": 27,
   "metadata": {
    "execution": {
     "iopub.execute_input": "2021-04-16T21:20:11.501589Z",
     "iopub.status.busy": "2021-04-16T21:20:11.500787Z",
     "iopub.status.idle": "2021-04-16T21:20:11.654567Z",
     "shell.execute_reply": "2021-04-16T21:20:11.653947Z"
    },
    "papermill": {
     "duration": 0.192685,
     "end_time": "2021-04-16T21:20:11.654719",
     "exception": false,
     "start_time": "2021-04-16T21:20:11.462034",
     "status": "completed"
    },
    "tags": []
   },
   "outputs": [
    {
     "data": {
      "text/plain": [
       "0.7752808988764045"
      ]
     },
     "execution_count": 27,
     "metadata": {},
     "output_type": "execute_result"
    }
   ],
   "source": [
    "from sklearn.linear_model import LogisticRegression\n",
    "model = LogisticRegression()\n",
    "model.fit(x_train,y_train) #fit method is used to train the model so here we are training our model\n",
    "model.score(x_test,y_test)  # score method will take \"x_test\" and will calculate survival rate\n",
    "# and will compare it with y_test and will give the accuracy of the model"
   ]
  },
  {
   "cell_type": "markdown",
   "metadata": {
    "papermill": {
     "duration": 0.035068,
     "end_time": "2021-04-16T21:20:11.727660",
     "exception": false,
     "start_time": "2021-04-16T21:20:11.692592",
     "status": "completed"
    },
    "tags": []
   },
   "source": [
    "## Decision Tree"
   ]
  },
  {
   "cell_type": "code",
   "execution_count": 28,
   "metadata": {
    "execution": {
     "iopub.execute_input": "2021-04-16T21:20:11.804727Z",
     "iopub.status.busy": "2021-04-16T21:20:11.803882Z",
     "iopub.status.idle": "2021-04-16T21:20:11.945349Z",
     "shell.execute_reply": "2021-04-16T21:20:11.945939Z"
    },
    "papermill": {
     "duration": 0.182948,
     "end_time": "2021-04-16T21:20:11.946124",
     "exception": false,
     "start_time": "2021-04-16T21:20:11.763176",
     "status": "completed"
    },
    "tags": []
   },
   "outputs": [
    {
     "data": {
      "text/plain": [
       "0.7808988764044944"
      ]
     },
     "execution_count": 28,
     "metadata": {},
     "output_type": "execute_result"
    }
   ],
   "source": [
    "# let`s now use decision tree algorithm for prediction\n",
    "from sklearn import tree\n",
    "model=tree.DecisionTreeClassifier()\n",
    "model.fit(x_train,y_train)\n",
    "model.score(x_test,y_test)"
   ]
  },
  {
   "cell_type": "markdown",
   "metadata": {
    "papermill": {
     "duration": 0.038753,
     "end_time": "2021-04-16T21:20:12.021658",
     "exception": false,
     "start_time": "2021-04-16T21:20:11.982905",
     "status": "completed"
    },
    "tags": []
   },
   "source": [
    "## Random Forest"
   ]
  },
  {
   "cell_type": "code",
   "execution_count": 29,
   "metadata": {
    "execution": {
     "iopub.execute_input": "2021-04-16T21:20:12.102582Z",
     "iopub.status.busy": "2021-04-16T21:20:12.101842Z",
     "iopub.status.idle": "2021-04-16T21:20:12.407279Z",
     "shell.execute_reply": "2021-04-16T21:20:12.406590Z"
    },
    "papermill": {
     "duration": 0.347165,
     "end_time": "2021-04-16T21:20:12.407434",
     "exception": false,
     "start_time": "2021-04-16T21:20:12.060269",
     "status": "completed"
    },
    "tags": []
   },
   "outputs": [
    {
     "data": {
      "text/plain": [
       "0.8146067415730337"
      ]
     },
     "execution_count": 29,
     "metadata": {},
     "output_type": "execute_result"
    }
   ],
   "source": [
    "from sklearn.ensemble import RandomForestClassifier\n",
    "model=RandomForestClassifier()\n",
    "model.fit(x_train,y_train)\n",
    "model.score(x_test,y_test)"
   ]
  },
  {
   "cell_type": "markdown",
   "metadata": {
    "papermill": {
     "duration": 0.036396,
     "end_time": "2021-04-16T21:20:12.480471",
     "exception": false,
     "start_time": "2021-04-16T21:20:12.444075",
     "status": "completed"
    },
    "tags": []
   },
   "source": [
    "# Fine Tuning"
   ]
  },
  {
   "cell_type": "markdown",
   "metadata": {
    "papermill": {
     "duration": 0.036178,
     "end_time": "2021-04-16T21:20:12.553560",
     "exception": false,
     "start_time": "2021-04-16T21:20:12.517382",
     "status": "completed"
    },
    "tags": []
   },
   "source": [
    "From the above models we can observe that without fine tuning any of the model, the Random Forest give us the best accuracy so lets fine tune the hyper parameters of the Random Forest."
   ]
  },
  {
   "cell_type": "code",
   "execution_count": 30,
   "metadata": {
    "execution": {
     "iopub.execute_input": "2021-04-16T21:20:12.641664Z",
     "iopub.status.busy": "2021-04-16T21:20:12.636410Z",
     "iopub.status.idle": "2021-04-16T21:20:12.765347Z",
     "shell.execute_reply": "2021-04-16T21:20:12.766174Z"
    },
    "papermill": {
     "duration": 0.17644,
     "end_time": "2021-04-16T21:20:12.766428",
     "exception": false,
     "start_time": "2021-04-16T21:20:12.589988",
     "status": "completed"
    },
    "tags": []
   },
   "outputs": [
    {
     "name": "stdout",
     "output_type": "stream",
     "text": [
      "The accuracy of model is:  82.02247191011236\n"
     ]
    }
   ],
   "source": [
    "from sklearn.ensemble import RandomForestClassifier\n",
    "model=RandomForestClassifier(n_estimators=50,max_depth=10,random_state=42)\n",
    "model.fit(x_train,y_train)\n",
    "print(\"The accuracy of model is: \",model.score(x_test,y_test)*100)"
   ]
  },
  {
   "cell_type": "markdown",
   "metadata": {
    "papermill": {
     "duration": 0.038783,
     "end_time": "2021-04-16T21:20:12.843446",
     "exception": false,
     "start_time": "2021-04-16T21:20:12.804663",
     "status": "completed"
    },
    "tags": []
   },
   "source": [
    "So we can see that after fine tuning our accuracy is increased \n",
    "Now our accuracy is 86% which is pretty good. yayyyy :D"
   ]
  },
  {
   "cell_type": "markdown",
   "metadata": {
    "papermill": {
     "duration": 0.038638,
     "end_time": "2021-04-16T21:20:12.920405",
     "exception": false,
     "start_time": "2021-04-16T21:20:12.881767",
     "status": "completed"
    },
    "tags": []
   },
   "source": [
    "Lets now predict the survival of the pessengers using our Random Forest model."
   ]
  },
  {
   "cell_type": "code",
   "execution_count": 31,
   "metadata": {
    "execution": {
     "iopub.execute_input": "2021-04-16T21:20:13.005480Z",
     "iopub.status.busy": "2021-04-16T21:20:13.004231Z",
     "iopub.status.idle": "2021-04-16T21:20:13.018702Z",
     "shell.execute_reply": "2021-04-16T21:20:13.018084Z"
    },
    "papermill": {
     "duration": 0.061509,
     "end_time": "2021-04-16T21:20:13.018878",
     "exception": false,
     "start_time": "2021-04-16T21:20:12.957369",
     "status": "completed"
    },
    "tags": []
   },
   "outputs": [
    {
     "data": {
      "text/plain": [
       "array([0, 1, 1, 1, 1, 0, 0, 1, 1, 0, 0, 0, 1, 0, 0, 1, 1, 0, 1, 0, 0, 0,\n",
       "       1, 0, 0, 1, 1, 0, 1, 0, 0, 0, 0, 1, 0, 0, 0, 0, 0, 1, 0, 0, 0, 0,\n",
       "       0, 0, 0, 1, 1, 0, 0, 0, 0, 0, 0, 1, 0, 0, 0, 0, 0, 0, 0, 0, 1, 0,\n",
       "       0, 0, 0, 0, 0, 0, 0, 1, 1, 1, 1, 0, 0, 0, 0, 1, 1, 1, 1, 1, 0, 0,\n",
       "       0, 0, 1, 0, 0, 0, 1, 0, 0, 0, 0, 0, 0, 1, 1, 1, 0, 0, 0, 0, 0, 0,\n",
       "       0, 0, 1, 1, 0, 0, 1, 0, 0, 0, 0, 0, 0, 1, 0, 0, 1, 0, 0, 0, 1, 1,\n",
       "       0, 0, 1, 1, 0, 0, 0, 0, 0, 0, 0, 1, 1, 0, 0, 0, 0, 1, 0, 0, 0, 0,\n",
       "       0, 0, 1, 0, 0, 0, 1, 1, 0, 0, 0, 0, 1, 0, 0, 0, 1, 1, 1, 0, 1, 0,\n",
       "       1, 0])"
      ]
     },
     "execution_count": 31,
     "metadata": {},
     "output_type": "execute_result"
    }
   ],
   "source": [
    "y_predicted= model.predict(x_test)\n",
    "y_predicted"
   ]
  },
  {
   "cell_type": "markdown",
   "metadata": {
    "papermill": {
     "duration": 0.03827,
     "end_time": "2021-04-16T21:20:13.095955",
     "exception": false,
     "start_time": "2021-04-16T21:20:13.057685",
     "status": "completed"
    },
    "tags": []
   },
   "source": [
    "# Confusion Matric"
   ]
  },
  {
   "cell_type": "code",
   "execution_count": 32,
   "metadata": {
    "execution": {
     "iopub.execute_input": "2021-04-16T21:20:13.180465Z",
     "iopub.status.busy": "2021-04-16T21:20:13.178090Z",
     "iopub.status.idle": "2021-04-16T21:20:13.399747Z",
     "shell.execute_reply": "2021-04-16T21:20:13.400259Z"
    },
    "papermill": {
     "duration": 0.266491,
     "end_time": "2021-04-16T21:20:13.400438",
     "exception": false,
     "start_time": "2021-04-16T21:20:13.133947",
     "status": "completed"
    },
    "tags": []
   },
   "outputs": [
    {
     "data": {
      "text/plain": [
       "<AxesSubplot:>"
      ]
     },
     "execution_count": 32,
     "metadata": {},
     "output_type": "execute_result"
    },
    {
     "data": {
      "image/png": "[encoded data removed]",
      "text/plain": [
       "<Figure size 432x288 with 2 Axes>"
      ]
     },
     "metadata": {
      "needs_background": "light"
     },
     "output_type": "display_data"
    }
   ],
   "source": [
    "from sklearn.metrics import confusion_matrix\n",
    "cm = confusion_matrix(y_test,y_predicted)\n",
    "sns.heatmap(cm,annot=True)"
   ]
  },
  {
   "cell_type": "code",
   "execution_count": null,
   "metadata": {
    "papermill": {
     "duration": 0.039175,
     "end_time": "2021-04-16T21:20:13.478617",
     "exception": false,
     "start_time": "2021-04-16T21:20:13.439442",
     "status": "completed"
    },
    "tags": []
   },
   "outputs": [],
   "source": []
  }
 ],
 "metadata": {
  "kernelspec": {
   "display_name": "Python 3",
   "language": "python",
   "name": "python3"
  },
  "language_info": {
   "codemirror_mode": {
    "name": "ipython",
    "version": 3
   },
   "file_extension": ".py",
   "mimetype": "text/x-python",
   "name": "python",
   "nbconvert_exporter": "python",
   "pygments_lexer": "ipython3",
   "version": "3.7.9"
  },
  "papermill": {
   "default_parameters": {},
   "duration": 13.264335,
   "end_time": "2021-04-16T21:20:14.227692",
   "environment_variables": {},
   "exception": null,
   "input_path": "__notebook__.ipynb",
   "output_path": "__notebook__.ipynb",
   "parameters": {},
   "start_time": "2021-04-16T21:20:00.963357",
   "version": "2.2.2"
  }
 },
 "nbformat": 4,
 "nbformat_minor": 4
}
